{
 "metadata": {
  "language_info": {
   "codemirror_mode": {
    "name": "ipython",
    "version": 3
   },
   "file_extension": ".py",
   "mimetype": "text/x-python",
   "name": "python",
   "nbconvert_exporter": "python",
   "pygments_lexer": "ipython3",
   "version": 3
  },
  "orig_nbformat": 2
 },
 "nbformat": 4,
 "nbformat_minor": 2,
 "cells": [
  {
   "source": [
    "# GPU Issue when upgrading to Ubuntu 20.04"
   ],
   "cell_type": "markdown",
   "metadata": {}
  },
  {
   "source": [
    "So I just updated my (very) remote server from ubuntu 18 to 20 and the process went fairly smooth (except for Nvidia GPU stuff)."
   ],
   "cell_type": "markdown",
   "metadata": {}
  },
  {
   "source": [
    "When I say \"very\" remote, my server is in Miami, USA. But I am currently studying in Israel lol :)"
   ],
   "cell_type": "markdown",
   "metadata": {}
  },
  {
   "source": [
    "I wanted to document some of my issues/useful tools here:"
   ],
   "cell_type": "markdown",
   "metadata": {}
  },
  {
   "source": [
    "## TOOLS:\n",
    "- `tmux`\n",
    "    - https://github.com/tmux/tmux/wiki\n",
    "    - I strongly reccomend Oh My Tmux! config found here: https://github.com/gpakosz/.tmux\n",
    "        - ctrl+b + m to switch to mouse mode (you'll thank me later)\n",
    "    - The reason for this is that you will be making fairly significant changes to your OS while being very far away. All it takes is for your wifi signal to break and god knows what will happen to your ubuntu install. Ubuntu will warn you if you are only using `ssh` to upgrade.\n",
    "    - The other reason is that its just a super dope tool and every developer that uses remote machines must learn it IMO.\n",
    "- Thats it actually\n"
   ],
   "cell_type": "markdown",
   "metadata": {}
  },
  {
   "source": [
    "## How to upgrade from ubuntu terminal:\n",
    "1. First run `sudo apt-get update && sudo apt-get upgrade`\n",
    "2. Run `do-release-upgrade`\n",
    "    - This is where you need to have `tmux` running on your remote machine. Ubuntu should warn you otherwise.\n",
    "3. At some point, ubuntu will tell you that there is a local change to your `sshd` file, and the update wants to override it. This is the file responsible for your ssh configuration. The one you are using to ssh into your machine with. If this file is changed in a way that breaks your ssh connection (for example, if you have a custom port, it will be changed back to 22) and the file is sourced, I think your connection will be broken. Since your machine is remote, you will have no access. So, simply tell the prompt that you will keep the old version of your sshd.\n",
    "4. After everything is done installing, run `sudo reboot`\n",
    "5. If everything installed okay, and you are able to ssh back in, you can check your OS version with `lsb_release -a`"
   ],
   "cell_type": "markdown",
   "metadata": {}
  },
  {
   "source": [
    "### This is where things got bad :(\n",
    "6. Check if your nvidia card is working with `nvidia-smi`. Mine did not. \n",
    "    - My error: `NVIDIA-SMI has failed because it couldn't communicate with the NVIDIA driver. Make sure that the latest NVIDIA driver is installed and running.`\n",
    "An internet search led me to this link: https://askubuntu.com/questions/927199/nvidia-smi-has-failed-because-it-couldnt-communicate-with-the-nvidia-driver-ma which told me to install `nvidia-cuda-toolkit`, and `prime-select query`. Seems a lot of other people were led to disable secureboot (which pissed me off because I dont think its possible to disable secureboot remotely as it is a firmware motherboard thing).\n",
    "7. But, I found this tool that you can use to check if you have secureboot enabled or not: `mokutil --sb-state`. Mine was already disabled.\n",
    "\n",
    "### Fix\n",
    "8. Turned out, I just had to install the latest driver :). So lets do that\n",
    "9. Run `ubuntu-drivers devices` to find which drivers you need. It will say \"recommended\" next to the one it recommends ![](fastcore_imgs/2020-10-07-Ubuntu_update_gpu_issue/ubuntu-drivers-out.png)\n",
    "\n",
    "10. Install the recommended driver like `sudo apt install nvidia-driver-450`\n",
    "\n",
    "11. Run `sudo reboot` and finally check your `nvidia-smi` output again :) \n",
    "\n",
    "![](fastcore_imgs/2020-10-07-Ubuntu_update_gpu_issue/nvidia-smi-out.png)\n"
   ],
   "cell_type": "markdown",
   "metadata": {}
  },
  {
   "source": [],
   "cell_type": "markdown",
   "metadata": {}
  },
  {
   "source": [],
   "cell_type": "markdown",
   "metadata": {}
  }
 ]
}